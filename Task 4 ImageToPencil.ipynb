{
 "cells": [
  {
   "cell_type": "markdown",
   "id": "59d3d01b",
   "metadata": {},
   "source": [
    "# Let 's Grow More (LGM) : - \n",
    "\n",
    "## Task 4 :- Image to Pencil Sketch with Python (BEGINNER LEVEL TASK) \n",
    "\n",
    "### By : - Pratham Tidke \n",
    "\n",
    "\n"
   ]
  },
  {
   "cell_type": "markdown",
   "id": "0946044f",
   "metadata": {},
   "source": [
    "* For this we have to import cv2 library\n",
    "* If not present we have to download that usibg pip install opencv-python"
   ]
  },
  {
   "cell_type": "code",
   "execution_count": 1,
   "id": "ff22aac7",
   "metadata": {},
   "outputs": [],
   "source": [
    "import cv2\n",
    "\n",
    "# loads an image from the specified file\n",
    "image = cv2.imread('Goku.jpeg') \n"
   ]
  },
  {
   "cell_type": "markdown",
   "id": "e39adabd",
   "metadata": {},
   "source": [
    "### Helpfull Term :-\n",
    "\n",
    "* imread()- This function will load the image i.e in the specified folder. \n",
    "\n",
    "* cvtColor()- This function takes color as an argument and then changes the source image color into that color.\n",
    "\n",
    "* bitwise_not()- This function will help the image to keep the properties as same by providing the masking to it.\n",
    "\n",
    "* GaussianBlur()- This function is used to modify the image by sharpening the edges of the image, smoothen the image, and will minimize the\n",
    "\n",
    " \"\" blurring property.\"\"\n",
    "\n",
    "* divide()- This function is used for the normalization of the image as it doesn’t lose its previous properties.\n",
    "\n",
    "* Finally will save the image using imwrite() function."
   ]
  },
  {
   "cell_type": "code",
   "execution_count": 2,
   "id": "21a3ec2e",
   "metadata": {},
   "outputs": [],
   "source": [
    "# convert an image from one color space to another\n",
    "grey_img = cv2.cvtColor(image, cv2.COLOR_BGR2GRAY)"
   ]
  },
  {
   "cell_type": "code",
   "execution_count": 3,
   "id": "97819e6c",
   "metadata": {},
   "outputs": [],
   "source": [
    "# helps in masking of the image\n",
    "invert = cv2.bitwise_not(grey_img)"
   ]
  },
  {
   "cell_type": "code",
   "execution_count": 4,
   "id": "0b037a1b",
   "metadata": {},
   "outputs": [],
   "source": [
    "# sharp edges in images are smoothed while minimizing too much blurring\n",
    "blur = cv2.GaussianBlur(invert, (21, 21), 0)"
   ]
  },
  {
   "cell_type": "code",
   "execution_count": 5,
   "id": "880cee7b",
   "metadata": {},
   "outputs": [],
   "source": [
    "invertedblur = cv2.bitwise_not(blur)"
   ]
  },
  {
   "cell_type": "code",
   "execution_count": 6,
   "id": "92fc878b",
   "metadata": {},
   "outputs": [
    {
     "data": {
      "text/plain": [
       "True"
      ]
     },
     "execution_count": 6,
     "metadata": {},
     "output_type": "execute_result"
    }
   ],
   "source": [
    "sketch = cv2.divide(grey_img, invertedblur, scale=256.0)\n",
    "cv2.imwrite(\"sketch.png\", sketch) # converted image is saved as mentioned name"
   ]
  },
  {
   "cell_type": "code",
   "execution_count": null,
   "id": "6d1d1d1b",
   "metadata": {},
   "outputs": [],
   "source": []
  }
 ],
 "metadata": {
  "kernelspec": {
   "display_name": "Python 3",
   "language": "python",
   "name": "python3"
  },
  "language_info": {
   "codemirror_mode": {
    "name": "ipython",
    "version": 3
   },
   "file_extension": ".py",
   "mimetype": "text/x-python",
   "name": "python",
   "nbconvert_exporter": "python",
   "pygments_lexer": "ipython3",
   "version": "3.8.8"
  }
 },
 "nbformat": 4,
 "nbformat_minor": 5
}
